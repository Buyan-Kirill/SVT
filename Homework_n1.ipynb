{
  "nbformat": 4,
  "nbformat_minor": 0,
  "metadata": {
    "colab": {
      "provenance": [],
      "authorship_tag": "ABX9TyOsKSmhVja0Pl7Bx/CziCRo",
      "include_colab_link": true
    },
    "kernelspec": {
      "name": "python3",
      "display_name": "Python 3"
    },
    "language_info": {
      "name": "python"
    }
  },
  "cells": [
    {
      "cell_type": "markdown",
      "metadata": {
        "id": "view-in-github",
        "colab_type": "text"
      },
      "source": [
        "<a href=\"https://colab.research.google.com/github/Buyan-Kirill/SVT/blob/main/Homework_n1.ipynb\" target=\"_parent\"><img src=\"https://colab.research.google.com/assets/colab-badge.svg\" alt=\"Open In Colab\"/></a>"
      ]
    },
    {
      "cell_type": "code",
      "source": [
        "import numpy as np\n",
        "import math\n",
        "import scipy.integrate as integrate\n",
        "from numpy.polynomial.polynomial import Polynomial\n",
        "\n",
        "a, b = -1., 1. # Левая и правая границы интегрирования\n",
        "n = 3 # Максимальная степень полиномов в системе\n",
        "\n",
        "# Весовая функция в скалярном произведении\n",
        "class weight:\n",
        "    p = Polynomial([1.])\n",
        "    def __init__(polynomial):\n",
        "        p = polynomial\n",
        "\n",
        "# Проверка полиномов на ортонормированность\n",
        "def check_ortonormal_polynoms(ort_polynoms, weight, a = -1., b = 1., eps = 10e-8):\n",
        "    n = len(ort_polynoms)\n",
        "    for i in range(n):\n",
        "        for j in range(i + 1, n):\n",
        "            p = (weight.p * ort_polynoms[i] * ort_polynoms[j]).integ()\n",
        "            if abs(p(b) - p(a)) > eps:\n",
        "                return False\n",
        "        p = (weight.p * ort_polynoms[i] * ort_polynoms[i]).integ()\n",
        "        if abs(p(b) - p(a) - 1) > eps:\n",
        "            return False\n",
        "    return True\n",
        "\n",
        "# Проверка обнуления полинома максимальной степени на собственных значениях матрицы А\n",
        "def check_eigenvalues(max_polynom, eigenvalues, eps = 10e-8):\n",
        "    for i in eigenvalues:\n",
        "        if abs(max_polynom(i)) > eps:\n",
        "            return False\n",
        "    return True\n",
        "\n",
        "# Нахождение системы ортогональных полиномов через матрицу Грамма\n",
        "def find_polynoms_Gramm_Shmidt(n, weight, a = -1., b = 1.):\n",
        "    Gramm = [[(weight.p * Polynomial([0.] * (i + j) + [1.])).integ()(b) - (weight.p * Polynomial([0.] * (i + j) + [1.])).integ()(a) for i in range(n + 1)] for j in range(n + 1)]\n",
        "    R = np.linalg.cholesky(Gramm)\n",
        "    R = np.transpose(R)\n",
        "    R = np.linalg.inv(R)\n",
        "    R = np.transpose(R)\n",
        "    ort_polynoms = []\n",
        "    for i in range(n + 1):\n",
        "        ort_polynoms.append(Polynomial(R[i]))\n",
        "    return ort_polynoms\n",
        "\n",
        "# Класс для рекурсивного нахождения системы ортогональных полиномов\n",
        "class Recursive_method:\n",
        "    alpha_arr = []\n",
        "    beta_arr = []\n",
        "\n",
        "    # Метод рекурсивного нахождения системы ортогональных полиномов\n",
        "    def find_polynoms_recursively(self, n, weight, a = -1., b = 1.):\n",
        "        ort_polynoms = []\n",
        "        p = weight.p.integ()\n",
        "        ort_polynoms.append(Polynomial([math.sqrt(1. / (p(b) - p(a)))]))\n",
        "        p1 = (weight.p * ort_polynoms[0] * ort_polynoms[0] * Polynomial([0., 1.])).integ()\n",
        "        p2 = (weight.p * ort_polynoms[0] * ort_polynoms[0]).integ()\n",
        "        alpha = (p1(b) - p1(a)) / (p2(b) - p2(a))\n",
        "        self.alpha_arr.append(alpha)\n",
        "        p = Polynomial([0., 1.]) * ort_polynoms[0] - alpha * ort_polynoms[0]\n",
        "        p1 = (weight.p * p * p).integ()\n",
        "        beta = (math.sqrt(p1(b) - p1(a)))\n",
        "        self.beta_arr.append(beta)\n",
        "        p = p / beta\n",
        "        ort_polynoms.append(p)\n",
        "        for i in range(1, n):\n",
        "            p1 = (weight.p * ort_polynoms[i] * ort_polynoms[i] * Polynomial([0., 1.])).integ()\n",
        "            p2 = (weight.p * ort_polynoms[i] * ort_polynoms[i]).integ()\n",
        "            alpha = (p1(b) - p1(a)) / (p2(b) - p2(a))\n",
        "            self.alpha_arr.append(alpha)\n",
        "            p = Polynomial([0., 1.]) * ort_polynoms[i] - alpha * ort_polynoms[i] - self.beta_arr[i - 1] * ort_polynoms[i - 1]\n",
        "            p1 = (weight.p * p * p).integ()\n",
        "            beta = (math.sqrt(p1(b) - p1(a)))\n",
        "            self.beta_arr.append(beta)\n",
        "            p = p / beta\n",
        "            ort_polynoms.append(p)\n",
        "        return ort_polynoms\n",
        "\n",
        "    # Нахождение собственных значений матрицы А\n",
        "    def find_eigenvalues(self):\n",
        "        n = len(self.alpha_arr)\n",
        "        A = np.zeros((n, n))\n",
        "        for i in range(len(self.alpha_arr)):\n",
        "            A[i, i] = self.alpha_arr[i]\n",
        "            if i > 0:\n",
        "                A[i, i - 1] = self.beta_arr[i - 1]\n",
        "            if i < n - 1:\n",
        "                A[i, i + 1] = self.beta_arr[i]\n",
        "        eigenvalues, eigenvectors = np.linalg.eig(A)\n",
        "        return eigenvalues\n",
        "\n",
        "ort_polynoms1 = find_polynoms_Gramm_Shmidt(n, weight, a, b)\n",
        "print(\"Проверка первого метода: \", check_ortonormal_polynoms(ort_polynoms1, weight, a, b))\n",
        "A = Recursive_method()\n",
        "ort_polynoms2 = A.find_polynoms_recursively(n, weight, a, b)\n",
        "print(\"Проверка второго метода: \", check_ortonormal_polynoms(ort_polynoms2, weight, a, b))\n",
        "eigenvalues = A.find_eigenvalues()\n",
        "print(\"Проверка собственных значений: \", check_eigenvalues(ort_polynoms2[n], eigenvalues))"
      ],
      "metadata": {
        "colab": {
          "base_uri": "https://localhost:8080/"
        },
        "id": "qUMLecrXDg_4",
        "outputId": "493485ef-6b19-4781-c666-f1bf7491a990"
      },
      "execution_count": null,
      "outputs": [
        {
          "output_type": "stream",
          "name": "stdout",
          "text": [
            "Проверка первого метода:  True\n",
            "Проверка второго метода:  True\n",
            "Проверка собственных значений:  True\n"
          ]
        }
      ]
    }
  ]
}